{
 "cells": [
  {
   "cell_type": "code",
   "execution_count": null,
   "id": "7e3f985d",
   "metadata": {},
   "outputs": [],
   "source": [
    "from pathlib import Path\n",
    "import pandas as pd\n",
    "import numpy as np\n",
    "import matplotlib.pyplot as plt\n",
    "import h5py\n",
    "import os"
   ]
  },
  {
   "cell_type": "code",
   "execution_count": null,
   "id": "108b4587",
   "metadata": {},
   "outputs": [],
   "source": [
    "from multiscale_run import config\n",
    "conf = config.MsrConfig()"
   ]
  },
  {
   "cell_type": "code",
   "execution_count": null,
   "id": "dfcd8a23",
   "metadata": {},
   "outputs": [],
   "source": [
    "paths = [Path(\"RESULTS\"), Path(\"RESULTS\")]\n",
    "dfs = [{} for i in enumerate(paths)]\n",
    "units = [{} for i in enumerate(paths)]\n",
    "for ii, path in enumerate(paths):\n",
    "    for file_path in path.rglob('*.h5'):\n",
    "        if file_path.name != \"ndam_spikes.h5\":\n",
    "            with h5py.File(file_path, 'r') as file:\n",
    "                # Get the data and column names\n",
    "                data_path = f\"/report/{conf.preprocessor.node_sets.neuron_population_name}/data\"\n",
    "                column_path = f\"/report/{conf.preprocessor.node_sets.neuron_population_name}/mapping/node_ids\"\n",
    "                time_path = f\"/report/{conf.preprocessor.node_sets.neuron_population_name}/mapping/time\"\n",
    "\n",
    "                # Load data and column names into Pandas dataframes\n",
    "                dfs[ii][file_path.name] = pd.DataFrame(file[data_path][:])\n",
    "                dfs[ii][file_path.name].columns = file[column_path][:]\n",
    "                dfs[ii][file_path.name]['t'] = np.arange(*file[time_path][:])\n",
    "\n",
    "                units[ii][file_path.name] = [file[time_path].attrs[\"units\"], file[data_path].attrs[\"units\"]]\n"
   ]
  },
  {
   "cell_type": "code",
   "execution_count": null,
   "id": "64d56426",
   "metadata": {},
   "outputs": [],
   "source": [
    "all_gids = [[i for i in list(next(iter(j.values())).columns) if i != 't'] for j in dfs]\n",
    "all_quantities = [list(i.keys()) for i in dfs]\n",
    "print(\"Available GIDs:\")\n",
    "for path, gids, q in zip(paths, all_gids, all_quantities):\n",
    "    print(f\"{path}:\\n{gids}\\n{q}\")"
   ]
  },
  {
   "cell_type": "code",
   "execution_count": null,
   "id": "ef4a00d1",
   "metadata": {},
   "outputs": [],
   "source": [
    "# Get user input for GiD and Quantity\n",
    "selected_gids = [174, 932]\n",
    "selected_quantities = all_quantities[0]\n",
    "img_path = Path('RESULTS/jpg')\n",
    "\n",
    "\n",
    "img_path.mkdir(parents=True, exist_ok=True)\n",
    "for quantity in selected_quantities:\n",
    "    print(f\"processing: {quantity}\")\n",
    "    plt.figure()\n",
    "    for uu in units:\n",
    "        try:\n",
    "            u = uu[quantity]\n",
    "        except KeyError:\n",
    "            continue\n",
    "    \n",
    "    plt.xlabel(u[0])\n",
    "    plt.ylabel(u[1])\n",
    "    plt.title(f'{quantity}')\n",
    "    # Loop through selected gids (traces) for the current quantity\n",
    "    for ii, path in enumerate(paths):\n",
    "        for gid in selected_gids:\n",
    "            try:\n",
    "                # Get the time trace data for the current quantity and gid\n",
    "                trace_data = dfs[ii][quantity][gid]\n",
    "                time_data = dfs[ii][quantity]['t']\n",
    "            except KeyError:\n",
    "                continue\n",
    "        \n",
    "\n",
    "            # Plot the time trace\n",
    "            plt.plot(time_data, trace_data, label=f'path: {path}, gid: {gid}')\n",
    "\n",
    "    # Customize the plot\n",
    "    plt.legend()\n",
    "    plt.grid(True)\n",
    "    \n",
    "    # Save the figure\n",
    "    save_path = img_path / f\"{quantity}.jpg\"\n",
    "    plt.savefig(save_path, format='jpg')\n",
    "\n",
    "# Show all the plots\n",
    "plt.show()"
   ]
  },
  {
   "cell_type": "code",
   "execution_count": null,
   "id": "3ddd5ab2",
   "metadata": {},
   "outputs": [],
   "source": []
  }
 ],
 "metadata": {
  "kernelspec": {
   "display_name": "Python 3 (ipykernel)",
   "language": "python",
   "name": "python3"
  },
  "language_info": {
   "codemirror_mode": {
    "name": "ipython",
    "version": 3
   },
   "file_extension": ".py",
   "mimetype": "text/x-python",
   "name": "python",
   "nbconvert_exporter": "python",
   "pygments_lexer": "ipython3",
   "version": "3.11.6"
  }
 },
 "nbformat": 4,
 "nbformat_minor": 5
}
