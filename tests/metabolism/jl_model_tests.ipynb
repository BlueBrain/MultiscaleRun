{
 "cells": [
  {
   "cell_type": "code",
   "execution_count": 1,
   "id": "9fc0f4ff-c09c-41d9-b6a5-ebf5b7f642b6",
   "metadata": {},
   "outputs": [],
   "source": [
    "using DifferentialEquations\n",
    "using ModelingToolkit, Symbolics \n",
    "\n",
    "using DelimitedFiles\n",
    "using Plots, Plots.PlotMeasures, Latexify\n",
    "using Dates # to print current time\n"
   ]
  },
  {
   "cell_type": "code",
   "execution_count": 2,
   "id": "cb40642b-adde-4db7-8c57-30860295fc01",
   "metadata": {},
   "outputs": [
    {
     "data": {
      "text/plain": [
       "metabolism! (generic function with 1 method)"
      ]
     },
     "execution_count": 2,
     "metadata": {},
     "output_type": "execute_result"
    }
   ],
   "source": [
    "include(\"/gpfs/bbp.cscs.ch/project/proj34/sh_ngvm/multiscale_run/metabolismndam_reduced/sim/metabolism_unit_models/metabolism_model_21nov22.jl\")\n"
   ]
  },
  {
   "cell_type": "code",
   "execution_count": 3,
   "id": "19031b4e-30ea-471a-be1d-9c748170280a",
   "metadata": {},
   "outputs": [
    {
     "data": {
      "text/plain": [
       "0.0007811692998412566"
      ]
     },
     "execution_count": 3,
     "metadata": {},
     "output_type": "execute_result"
    }
   ],
   "source": [
    "modeldirname = \"/gpfs/bbp.cscs.ch/project/proj34/metabolismndam/sim/metabolism_unit_models/\"\n",
    "\n",
    "include(string(modeldirname,\"FINAL_CLEAN/data_model_full/u0_db_refined_selected_oct2021.jl\"))\n",
    "\n",
    "pardirname = string(modeldirname,\"optimiz_unit/enzymes/enzymes_preBigg/COMBO/parameters_18nov22/\")\n",
    "\n",
    "include(string(pardirname,\"general_parameters.jl\"))\n",
    "include(string(pardirname,\"ephys_parameters.jl\"))\n",
    "include(string(pardirname,\"bf_input.jl\"))\n",
    "include(string(pardirname,\"generalisations.jl\")) # Jolivet NADH shuttles, resp\n",
    "include(string(pardirname,\"GLC_transport.jl\"))\n",
    "include(string(pardirname,\"GLYCOLYSIS.jl\"))\n",
    "include(string(pardirname,\"glycogen.jl\"))\n",
    "\n",
    "include(string(pardirname,\"creatine.jl\"))\n",
    "\n",
    "include(string(pardirname,\"ATDMP.jl\"))\n",
    "\n",
    "include(string(pardirname,\"pyrTrCytoMito.jl\"))\n",
    "include(string(pardirname,\"lactate.jl\"))\n",
    "include(string(pardirname,\"TCA.jl\"))\n",
    "\n",
    "include(string(pardirname,\"ETC.jl\"))\n",
    "\n",
    "include(string(pardirname,\"PPP_n.jl\"))\n",
    "include(string(pardirname,\"PPP_a.jl\"))\n",
    "include(string(pardirname,\"gshgssg.jl\"))\n",
    "\n",
    "include(string(pardirname,\"MAS.jl\"))\n",
    "include(string(pardirname,\"gltgln.jl\"))\n",
    "include(string(pardirname,\"pyrCarb.jl\"))\n",
    "include(string(pardirname,\"ketones.jl\"))\n",
    "# include(string(pardirname,\"gaba.jl\"))\n",
    "\n",
    "\n",
    "u0l = [\"C_H_mitomatr_n0\",\"K_x_n0\",\"Mg_x_n0\",\"NADHmito_n0\",\"QH2mito_n0\",\"CytCredmito_n0\",\"O2_n0\",\n",
    "    \"ATPmito_n0\",\"ADPmito_n0\",\"ATP_mx_n0\",\"ADP_mx_n0\",\"Pimito_n0\",\"ATP_i_n0\",\"ADP_i_n0\",\"AMP_i_n0\",\"ATP_mi_n0\",\"ADP_mi_n0\",\"Pi_i_n0\",\n",
    "    \"MitoMembrPotent_n0\",\"Ctot_n0\",\"Qtot_n0\",\"C_H_ims_n0\",\"ATP_n0\",\"ADP_n0\",\n",
    "    \"FUMmito_n0\",\"MALmito_n0\",\"OXAmito_n0\",\"SUCmito_n0\",\"SUCCOAmito_n0\",\"CoAmito_n0\",\"AKGmito_n0\",\"CaMito_n0\",\"ISOCITmito_n0\",\"CITmito_n0\",\"AcCoAmito_n0\",\n",
    "    \"AcAc_n0\",\"AcAcCoA_n0\",\"PYRmito_n0\",\"bHB_n0\",\"bHB_ecs0\",\"bHB_a0\",\"bHB_b0\",\"ASPmito_n0\",\"ASP_n0\",\"GLUmito_n0\",\"MAL_n0\",\"OXA_n0\",\"AKG_n0\",\"GLU_n0\",\n",
    "    \"NADH_n0\",\"C_H_mitomatr_a0\",\"K_x_a0\",\"Mg_x_a0\",\"NADHmito_a0\",\"QH2mito_a0\",\"CytCredmito_a0\",\"O2_a0\",\n",
    "    \"ATPmito_a0\",\"ADPmito_a0\",\"ATP_mx_a0\",\"ADP_mx_a0\",\"Pimito_a0\",\"ATP_i_a0\",\"ADP_i_a0\",\"AMP_i_a0\",\"ATP_mi_a0\",\"ADP_mi_a0\",\"Pi_i_a0\",\n",
    "    \"MitoMembrPotent_a0\",\"Ctot_a0\",\"Qtot_a0\",\"C_H_ims_a0\",\"ATP_a0\",\"ADP_a0\",\n",
    "    \"FUMmito_a0\",\"MALmito_a0\",\"OXAmito_a0\",\"SUCmito_a0\",\"SUCCOAmito_a0\",\"CoAmito_a0\",\"AKGmito_a0\",\"CaMito_a0\",\"ISOCITmito_a0\",\"CITmito_a0\",\"AcCoAmito_a0\",\n",
    "    \"AcAc_a0\",\"AcAcCoA_a0\",\"PYRmito_a0\",\"GLN_n0\",\"GLN_out0\",\"GLN_a0\",\"GLUT_a0\",\n",
    "    \"Va0\",\"Na_a0\",\"K_a0\",\"K_out0\",\"GLUT_syn0\",\"VNeu0\",\"Na_n0\",\"h0\",\"n0\",\"Ca_n0\",\"pgate0\",\"nBK_a0\",\"mGluRboundRatio_a0\",\"IP3_a0\",\"hIP3Ca_a0\",\"Ca_a0\",\"Ca_r_a0\",\"sTRP_a0\",\n",
    "    \"vV0\",\"EET_a0\",\"ddHb0\",\"O2cap0\",\"Glc_b0\",\"Glc_t_t0\",\"Glc_ecsBA0\",\"Glc_a0\",\"Glc_ecsAN0\",\"Glc_n0\",\"G6P_n0\",\"G6P_a0\",\"F6P_n0\",\"F6P_a0\",\"FBP_n0\",\"FBP_a0\",\"f26bp_a0\",\"GLY_a0\",\n",
    "    \"AMP_n0\",\"AMP_a0\",\"G1P_a0\",\"GAP_n0\",\"GAP_a0\",\"DHAP_n0\",\"DHAP_a0\",\"BPG13_n0\",\"BPG13_a0\",\"NADH_a0\",\"Pi_n0\",\"Pi_a0\",\"PG3_n0\",\"PG3_a0\",\"PG2_n0\",\"PG2_a0\",\"PEP_n0\",\"PEP_a0\",\"Pyr_n0\",\"Pyr_a0\",\n",
    "    \"Lac_b0\",\"Lac_ecs0\",\"Lac_a0\",\"Lac_n0\",\"NADPH_n0\",\"NADPH_a0\",\"GL6P_n0\",\"GL6P_a0\",\"GO6P_n0\",\"GO6P_a0\",\"RU5P_n0\",\"RU5P_a0\",\"R5P_n0\",\"R5P_a0\",\"X5P_n0\",\"X5P_a0\",\"S7P_n0\",\"S7P_a0\",\"E4P_n0\",\"E4P_a0\",\n",
    "    \"GSH_n0\",\"GSH_a0\",\"GSSG_n0\",\"GSSG_a0\",\n",
    "    \"Cr_n0\",\"PCr_n0\",\"Cr_a0\",\"PCr_a0\",\"cAMP_a0\",\"NE_neuromod0\",\"UDPgluco_a0\",\"UTP_a0\",\"GS_a0\",\"GPa_a0\",\"GPb_a0\"] \n",
    "#,\"PKAa_a0\",\"PKAb_a0\", \"PHKa_a0\",\"R2CcAMP2_a0\",\"R2CcAMP4_a0\",\"PP1_a0\",\"PP1_GPa_a0\"]; \n",
    "\n",
    "newssfn = string(modeldirname,\"optimiz_unit/enzymes/enzymes_preBigg/COMBO/solres/cm12sep_n_v12_ss_u.csv\")\n",
    "u0_ssf = readdlm(newssfn, ',',Float64)\n",
    "u0_ss = u0_ssf[size(u0_ssf)[1],1:172];\n",
    "\n",
    "u0_ss[50] = 6.2436588774363953e-003\n",
    "u0_ss[138] = 1.0386865243459381e-001 \n",
    "\n",
    "u0_ss[147] = 0.06 # Pyr_n\n",
    "u0_ss[148] = 0.033 # Pyr_a\n",
    "\n",
    "u0_ss[149] = 0.55 #0.6 #0.81 #0.55 #0.81 #1.216434063718027 #0.81 # Lac_b0\n",
    "u0_ss[150] = 0.55  # Lac_ecs0\n",
    "u0_ss[151] = 0.6 # Lac_a\n",
    "u0_ss[152] = 0.5 # Lac_n\n",
    "\n",
    "PCr_n0 = 4.9460223423181864e+000\n",
    "PCr_a0 = 4.9242059083825644e+000\n",
    "\n",
    "append!(u0_ss,(Crtot - PCr_n0))  # u0_ss[173]\n",
    "append!(u0_ss,PCr_n0) # u0_ss[174]\n",
    "append!(u0_ss,(Crtot - PCr_a0))\n",
    "append!(u0_ss,PCr_a0);\n",
    "\n",
    "cAMP_a0 = 0.04 #0.0381774 #0.0449285\n",
    "append!(u0_ss,cAMP_a0);\n",
    "\n",
    "NE_neuromod0 = 0 #1.0E-12\n",
    "append!(u0_ss,NE_neuromod0);\n",
    "\n",
    "UDPgluco_a0 = 0.1 # 0.0017145 # \n",
    "append!(u0_ss,UDPgluco_a0)\n",
    "append!(u0_ss,UTP_a0)\n",
    "\n",
    "GS_a0 = 0.0029999 # 0.003 # 0.01\n",
    "append!(u0_ss,GS_a0)\n",
    "\n",
    "GPa_a0 = 0.0016099978488516124 #2.76323e-05 # 0.00699 # 0.07\n",
    "append!(u0_ss,GPa_a0)\n",
    "\n",
    "GPb_a0 = 0.07 - GPa_a0 # 0.010485\n",
    "append!(u0_ss,GPb_a0)\n",
    "\n",
    "PKAa_a0 =  5e-8 #7.31381e-08 #  0.0018 #\n",
    "\n",
    "PHKa_a0 =  4e-7 #4.50229e-07 # 0.0025 # \n",
    "# append!(u0_ss,PHKa_a0) # PKa in JC2018\n",
    "\n",
    "\n",
    "PP1_a0 = 1e-6 #0.00025\n",
    "\n",
    "GLY_a0 = 14. #14.0 # DiNuzzo2010 #20.0 # JC2018 # 21.0452 \n",
    "u0_ss[128] = GLY_a0\n",
    "\n",
    "\n",
    "u0_ss[122] = 0.04765 #0.04783601494172984 #0.0468906766278199 #0.048781353255639794 #0.05256270651127959 #0.045 # 0.060125413022559186\n",
    "u0_ss[124] = 0.00787\n",
    "\n",
    "u0_ss[131] = 0.010008017678891246 #0.008 # 0.010008017678891246\n",
    "u0_ss[179] = 0.109 # 0.1 #0.08 # 0.1\n",
    "\n",
    "#u0_ss[36] = 0.0007811692998412566 # AcAc_n\n",
    "\n",
    "u0_ss[39] = 0.0014675109641225233 #0.00158 #0.00156 # 0.0014675109641225233 # bHB_n\n",
    "\n",
    "u0_ss[40] = 0.002235 #0.0015215138826751126  #0.0016 # 0.0015215138826751126 # bHB_ecs\n",
    "u0_ss[41] = 0.002235 # 0.00156 # bHB_a\n",
    "\n",
    "u0_ss[42] = 0.25 #0.3 #0.25 #0.2235 #0.1791767942800572  #0.2 #0.18 # 0.1791767942800572 # bHB_b\n",
    "\n",
    "\n",
    "u0_ss[155] = 2.7092257580389367e-6 #ssol.u[length(ssol.t)][1]\n",
    "\n",
    "u0_ss[157]  = 0.002602811983667072 #ssol.u[length(ssol.t)][2]\n",
    "\n",
    "u0_ss[159] = 0.0005492537427790363 #ssol.u[length(ssol.t)][3]\n",
    "\n",
    "u0_ss[161]  = 1.5630491940519432e-5 #ssol.u[length(ssol.t)][4]\n",
    "\n",
    "u0_ss[163] = 0.016809052196053463 #ssol.u[length(ssol.t)][5]\n",
    "\n",
    "u0_ss[165] = 0.019670939780045055 #ssol.u[length(ssol.t)][6]\n",
    "\n",
    "u0_ss[167] = 0.006660124912086106 #ssol.u[length(ssol.t)][7]\n",
    "\n",
    "u0_ss[153] = 0.03002906295035457 #ssol.u[length(ssol.t)][8] \n",
    "\n",
    "u0_ss[169] = 1.200006036847177 #ssol.u[length(ssol.t)][9]\n",
    "u0_ss[171] = 0.011996981576414082 #ssol.u[length(ssol.t)][10]\n",
    "\n",
    "u0_ss[156] =  3.0152308837840254e-6\n",
    "u0_ss[158] =  0.0018206898222500282  \n",
    "u0_ss[160] =  0.0006660510815360628  \n",
    "u0_ss[162] =  2.5988149103133187e-5  \n",
    "u0_ss[164] =  0.020396842695700638  \n",
    "u0_ss[166] =  0.24867167271642412  \n",
    "u0_ss[168] =  0.00614293030646683  \n",
    "u0_ss[154] =  0.03000640557349299  \n",
    "u0_ss[170] =  4.300001568622044  \n",
    "u0_ss[172] =   0.04299921568899956 \n",
    "\n",
    "# keto\n",
    "u0_ss[39] = 0.0015 #0.0014675109641225233\n",
    "u0_ss[40] = 0.0025 # 0.002235\n",
    "u0_ss[42] = 0.26 #0.25\n",
    "\n",
    "u0_ss[36] = 0.0007811692998412566 #0.0010722392326711768 #0.0007811692998412566"
   ]
  },
  {
   "cell_type": "code",
   "execution_count": 4,
   "id": "d11997c3-3a88-4ef2-8807-89aed7c1269f",
   "metadata": {},
   "outputs": [
    {
     "data": {
      "text/plain": [
       "183-element Vector{Float64}:\n",
       "  1.82084728579186e-5\n",
       " 54.8851390930353\n",
       "  0.4139847911045071\n",
       "  0.35659404016205853\n",
       "  0.03858504874339513\n",
       "  0.18272186375613705\n",
       "  0.02919627379301607\n",
       "  1.074997491836194\n",
       "  1.5250025081638081\n",
       "  0.7343956789485272\n",
       "  0.8296195300562087\n",
       " 16.099237382306928\n",
       "  2.3183097760668474\n",
       "  ⋮\n",
       "  0.04299921568899956\n",
       "  5.053977657681814\n",
       "  4.946022342318186\n",
       "  5.0757940916174356\n",
       "  4.9242059083825644\n",
       "  0.04\n",
       "  0.0\n",
       "  0.109\n",
       "  0.23\n",
       "  0.0029999\n",
       "  0.0016099978488516124\n",
       "  0.06839000215114839"
      ]
     },
     "execution_count": 4,
     "metadata": {},
     "output_type": "execute_result"
    }
   ],
   "source": [
    "u0 = copy(u0_ss)"
   ]
  },
  {
   "cell_type": "code",
   "execution_count": 5,
   "id": "d7d25806-4946-4762-af3f-cc8acde5a34f",
   "metadata": {},
   "outputs": [
    {
     "data": {
      "text/plain": [
       "\u001b[36mODEProblem\u001b[0m with uType \u001b[36mVector{Float64}\u001b[0m and tType \u001b[36mFloat64\u001b[0m. In-place: \u001b[36mtrue\u001b[0m\n",
       "timespan: (1.0, 10.0)\n",
       "u0: 183-element Vector{Float64}:\n",
       "  1.82084728579186e-5\n",
       " 54.8851390930353\n",
       "  0.4139847911045071\n",
       "  0.35659404016205853\n",
       "  0.03858504874339513\n",
       "  0.18272186375613705\n",
       "  0.02919627379301607\n",
       "  1.074997491836194\n",
       "  1.5250025081638081\n",
       "  0.7343956789485272\n",
       "  0.8296195300562087\n",
       " 16.099237382306928\n",
       "  2.3183097760668474\n",
       "  ⋮\n",
       "  0.04299921568899956\n",
       "  5.053977657681814\n",
       "  4.946022342318186\n",
       "  5.0757940916174356\n",
       "  4.9242059083825644\n",
       "  0.04\n",
       "  0.0\n",
       "  0.109\n",
       "  0.23\n",
       "  0.0029999\n",
       "  0.0016099978488516124\n",
       "  0.06839000215114839"
      ]
     },
     "execution_count": 5,
     "metadata": {},
     "output_type": "execute_result"
    }
   ],
   "source": [
    "p = [0.0,0.0,0.0,0.0,0.0]\n",
    "#ina_density,ik_density,mito_scale,glutamatergic_gaba_scaling,outs_r_to_met\n",
    "\n",
    "tspan = (1.,10) # s\n",
    "\n",
    "prob_met = ODEProblem(metabolism!, u0, tspan, p)"
   ]
  },
  {
   "cell_type": "code",
   "execution_count": 6,
   "id": "876f658c-a4d5-43a3-ba3f-c308024ae144",
   "metadata": {},
   "outputs": [
    {
     "data": {
      "text/plain": [
       "\"20:33:24\""
      ]
     },
     "execution_count": 6,
     "metadata": {},
     "output_type": "execute_result"
    }
   ],
   "source": [
    "Dates.format(now(), \"HH:MM:SS\")"
   ]
  },
  {
   "cell_type": "code",
   "execution_count": 7,
   "id": "77065f55-938b-4eae-82cf-42701aad4c43",
   "metadata": {},
   "outputs": [],
   "source": [
    "# de_mtk = modelingtoolkitize(prob_met);\n",
    "# prob = ODEProblem(de_mtk,Float64[],tspan, sparse=true)  \n"
   ]
  },
  {
   "cell_type": "code",
   "execution_count": 8,
   "id": "5dfa015a-8d77-41e8-929d-66e63913fe80",
   "metadata": {},
   "outputs": [],
   "source": [
    "# saveat_dt = 1\n",
    "\n",
    "# sol_test_mtk =  solve(prob,Rosenbrock23(autodiff=false),reltol=1e-8,abstol=1e-8,saveat=saveat_dt,maxiters=1e6)\n"
   ]
  },
  {
   "cell_type": "code",
   "execution_count": 9,
   "id": "d8d236dc-0f02-4a67-a1fb-01dfaab49077",
   "metadata": {},
   "outputs": [
    {
     "data": {
      "text/plain": [
       "\"20:33:24\""
      ]
     },
     "execution_count": 9,
     "metadata": {},
     "output_type": "execute_result"
    }
   ],
   "source": [
    "Dates.format(now(), \"HH:MM:SS\")"
   ]
  },
  {
   "cell_type": "code",
   "execution_count": null,
   "id": "fe34bfee-e912-4946-a919-029d67931ea9",
   "metadata": {},
   "outputs": [],
   "source": []
  },
  {
   "cell_type": "code",
   "execution_count": 10,
   "id": "93a184cd-1634-4b20-bc24-3cf5999d58d4",
   "metadata": {},
   "outputs": [
    {
     "data": {
      "text/plain": [
       "\"20:33:24\""
      ]
     },
     "execution_count": 10,
     "metadata": {},
     "output_type": "execute_result"
    }
   ],
   "source": [
    "Dates.format(now(), \"HH:MM:SS\")"
   ]
  },
  {
   "cell_type": "code",
   "execution_count": 11,
   "id": "b287532d-cd1e-4c7b-9215-0b9b9fd4434f",
   "metadata": {
    "tags": []
   },
   "outputs": [
    {
     "data": {
      "text/plain": [
       "retcode: Success\n",
       "Interpolation: 1st order linear\n",
       "t: 10-element Vector{Float64}:\n",
       "  1.0\n",
       "  2.0\n",
       "  3.0\n",
       "  4.0\n",
       "  5.0\n",
       "  6.0\n",
       "  7.0\n",
       "  8.0\n",
       "  9.0\n",
       " 10.0\n",
       "u: 10-element Vector{Vector{Float64}}:\n",
       " [1.82084728579186e-5, 54.8851390930353, 0.4139847911045071, 0.35659404016205853, 0.03858504874339513, 0.18272186375613705, 0.02919627379301607, 1.074997491836194, 1.5250025081638081, 0.7343956789485272  …  4.946022342318186, 5.0757940916174356, 4.9242059083825644, 0.04, 0.0, 0.109, 0.23, 0.0029999, 0.0016099978488516124, 0.06839000215114839]\n",
       " [1.82084728579186e-5, 54.885139093036166, 0.6966385111808193, 0.2883685059384355, 0.014845208457871215, 0.12441025653808897, 0.033816028482929195, 1.0646755998719708, 1.5353244001280313, 0.3147110278954979  …  4.949687194805672, 5.0757940916174356, 4.924470803341756, 0.039964094418763876, 0.0, 0.109, 0.23, 0.0029999, 0.001604361020838884, 0.06839563897916125]\n",
       " [1.82084728579186e-5, 54.88513909303695, 0.687216819430555, 0.23878982252636632, 0.006156416797580561, 0.09632780513802727, 0.034639732369685, 1.0125666872702621, 1.58743331272974, 0.29647854294473913  …  4.951598984996914, 5.0757940916174356, 4.924638787877008, 0.03992110693563362, 0.0, 0.109, 0.23, 0.0029999, 0.0015976838018652735, 0.06840231619813489]\n",
       " [1.8208472857918605e-5, 54.88513909303736, 0.6729614731540412, 0.20939299471997458, 0.004390688923777199, 0.08585892385528456, 0.03564881457844071, 0.9331511718496086, 1.6668488281503933, 0.2692037246656108  …  4.952787097220281, 5.0757940916174356, 4.924753879420586, 0.03987482152578903, 0.0, 0.109, 0.23, 0.0029999, 0.001590190269650298, 0.06840980973034984]\n",
       " [1.82084728579186e-5, 54.88513909303774, 0.6586471802773393, 0.19729001891911122, 0.0044875472946554595, 0.08588762834738665, 0.03631443927655012, 0.8523669280517943, 1.747633071948207, 0.2421542882770941  …  4.953591946697659, 5.0757940916174356, 4.9248394354417, 0.03982728944616498, 0.0, 0.109, 0.23, 0.0029999, 0.001582110885838782, 0.06841788911416133]\n",
       " [1.8208472857918605e-5, 54.88513909303811, 0.646304398325353, 0.2005213842202102, 0.005420997006677804, 0.09106793437326059, 0.03627395824439383, 0.7817773953980648, 1.8182226046019354, 0.2190991687775572  …  4.954109107778324, 5.0757940916174356, 4.924907391144566, 0.03977956222447012, 0.0, 0.109, 0.23, 0.0029999, 0.0015736209627056834, 0.0684263790372944]\n",
       " [1.82084728579186e-5, 54.885139093038426, 0.6369255125397495, 0.21456083274404933, 0.0071027720295119496, 0.09953821125446578, 0.035590108228714924, 0.7275280123310643, 1.8724719876689357, 0.2017479581047206  …  4.954363337130858, 5.0757940916174356, 4.924964021485705, 0.03973218460798891, 0.0, 0.109, 0.23, 0.0029999, 0.0015648579980264612, 0.0684351420019736]\n",
       " [1.82084728579186e-5, 54.88513909303867, 0.6308404143899763, 0.2348450985768506, 0.009413220620734637, 0.10948145828243985, 0.034572933301233934, 0.6920472455092889, 1.9079527544907122, 0.19056981786706548  …  4.95437321876771, 5.0757940916174356, 4.925012811169977, 0.03968544802384945, 0.0, 0.109, 0.23, 0.0029999, 0.0015559324044919544, 0.06844406759550811]\n",
       " [1.820847285791859e-5, 54.88513909303887, 0.627748441340506, 0.25702707423045823, 0.01202309061722218, 0.11908786755110322, 0.03353073135045062, 0.673948219579394, 1.9260517804206072, 0.18491643134649904  …  4.954176043230481, 5.0757940916174356, 4.925055833497283, 0.0396395145180842, 0.0, 0.109, 0.23, 0.0029999, 0.0015469341772197597, 0.06845306582278031]\n",
       " [1.82084728579186e-5, 54.88513909303894, 0.6269093691635922, 0.2777038650371153, 0.014485234234796418, 0.1270646098667336, 0.03264900197850475, 0.6690546622365623, 1.9309453377634396, 0.18338896159476445  …  4.953828968442234, 5.0757940916174356, 4.925094430462237, 0.03959447854867236, 0.0, 0.109, 0.23, 0.0029999, 0.0015379372354438184, 0.06846206276455626]"
      ]
     },
     "execution_count": 11,
     "metadata": {},
     "output_type": "execute_result"
    }
   ],
   "source": [
    "saveat_dt = 1\n",
    "\n",
    "\n",
    "sol_test =  solve(prob_met,Rosenbrock23(autodiff=false),reltol=1e-8,abstol=1e-8,saveat=saveat_dt,maxiters=1e6)\n"
   ]
  },
  {
   "cell_type": "code",
   "execution_count": 12,
   "id": "3ead704f-0db6-4dd4-80d2-fe92df7eef98",
   "metadata": {},
   "outputs": [
    {
     "data": {
      "text/plain": [
       "\"20:34:37\""
      ]
     },
     "execution_count": 12,
     "metadata": {},
     "output_type": "execute_result"
    }
   ],
   "source": [
    "Dates.format(now(), \"HH:MM:SS\")"
   ]
  },
  {
   "cell_type": "code",
   "execution_count": null,
   "id": "23cc3d04-4d1e-41a2-b135-6138965f8616",
   "metadata": {},
   "outputs": [],
   "source": []
  },
  {
   "cell_type": "code",
   "execution_count": null,
   "id": "bc81e16d-6ce2-4153-a2f1-674ac8a5bf86",
   "metadata": {},
   "outputs": [],
   "source": []
  },
  {
   "cell_type": "code",
   "execution_count": null,
   "id": "7c5bd5ba-0deb-4e30-865f-49a1b684e18c",
   "metadata": {},
   "outputs": [],
   "source": []
  },
  {
   "cell_type": "code",
   "execution_count": null,
   "id": "af1b14a0-e919-4dd8-a58c-2ab5dd63f7b4",
   "metadata": {},
   "outputs": [],
   "source": []
  },
  {
   "cell_type": "code",
   "execution_count": null,
   "id": "3e7862bf-bea5-4fd6-8195-ad37eb9c7d92",
   "metadata": {},
   "outputs": [],
   "source": []
  }
 ],
 "metadata": {
  "kernelspec": {
   "display_name": "Julia20threads1.6.6",
   "language": "julia",
   "name": "julia20threads-1.6"
  },
  "language_info": {
   "file_extension": ".jl",
   "mimetype": "application/julia",
   "name": "julia",
   "version": "1.6.6"
  }
 },
 "nbformat": 4,
 "nbformat_minor": 5
}
