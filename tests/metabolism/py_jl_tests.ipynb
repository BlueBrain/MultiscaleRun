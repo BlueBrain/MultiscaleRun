{
 "cells": [
  {
   "cell_type": "code",
   "execution_count": 25,
   "id": "ae188e18-2e35-4406-af48-e35a920a11ba",
   "metadata": {},
   "outputs": [
    {
     "name": "stdout",
     "output_type": "stream",
     "text": [
      "/gpfs/bbp.cscs.ch/project/proj34/sh_ngvm/multiscale_run\n"
     ]
    }
   ],
   "source": [
    "! pwd"
   ]
  },
  {
   "cell_type": "code",
   "execution_count": 8,
   "id": "77a4dce6-e974-43c5-b870-b397540608c0",
   "metadata": {},
   "outputs": [],
   "source": [
    "import pandas as pd\n",
    "import matplotlib.pyplot as plt"
   ]
  },
  {
   "cell_type": "code",
   "execution_count": 3,
   "id": "88e63dcd-f47a-4755-8691-4373adb6e18e",
   "metadata": {},
   "outputs": [],
   "source": [
    "u0fromFile = pd.read_csv(\"/gpfs/bbp.cscs.ch/project/proj34/sh_ngvm/multiscale_run/metabolismndam_reduced/sim/metabolism_unit_models/u0_21nov22.csv\",sep=\",\",header=None)[0].tolist()\n",
    "\n"
   ]
  },
  {
   "cell_type": "code",
   "execution_count": 5,
   "id": "9449a389-1a58-4d9a-85c9-fca9c23737e8",
   "metadata": {},
   "outputs": [],
   "source": [
    "from diffeqpy import de\n",
    "from julia import Main"
   ]
  },
  {
   "cell_type": "code",
   "execution_count": 2,
   "id": "75391580-36fa-42a0-a4b1-5d3d14cd96c4",
   "metadata": {},
   "outputs": [],
   "source": [
    "def f(u,p,t):\n",
    "    return -u\n",
    "\n",
    "u0 = 0.5\n",
    "tspan = (0., 1.)\n",
    "\n",
    "prob = de.ODEProblem(f, u0, tspan)\n",
    "integrator = de.init(prob, de.Tsit5())\n",
    "\n",
    "de.step_b(integrator) # To use functions which on the Julia side have a !, like step!, replace ! by _b \n"
   ]
  },
  {
   "cell_type": "code",
   "execution_count": 3,
   "id": "5711f20d-8962-4ae1-8399-7a18ed5dbd0a",
   "metadata": {},
   "outputs": [],
   "source": [
    "def f2_b(u,p,t):\n",
    "    return -u\n",
    "\n",
    "u0 = 0.5\n",
    "tspan = (0., 1.)\n",
    "prob = de.ODEProblem(f2_b, u0, tspan)\n",
    "sol = de.solve(prob)"
   ]
  },
  {
   "cell_type": "code",
   "execution_count": 4,
   "id": "bf71bec8-04d0-4001-8899-510119ef8dbc",
   "metadata": {},
   "outputs": [
    {
     "data": {
      "image/png": "[encoded data removed]",
      "text/plain": [
       "<Figure size 432x288 with 1 Axes>"
      ]
     },
     "metadata": {
      "needs_background": "light"
     },
     "output_type": "display_data"
    }
   ],
   "source": [
    "\n",
    "plt.plot(sol.t,sol.u)\n",
    "plt.show()"
   ]
  },
  {
   "cell_type": "code",
   "execution_count": 5,
   "id": "e94a9169-5043-4d53-983e-35044eddd2bf",
   "metadata": {},
   "outputs": [],
   "source": [
    "sol = de.solve(prob,de.Vern9(),saveat=0.1,abstol=1e-10,reltol=1e-10)"
   ]
  },
  {
   "cell_type": "code",
   "execution_count": null,
   "id": "3ea9bacb-af33-4e32-bc41-8cee82f42fb9",
   "metadata": {},
   "outputs": [],
   "source": []
  },
  {
   "cell_type": "code",
   "execution_count": 10,
   "id": "832fecfa-657c-4109-95eb-f2e97e8c1532",
   "metadata": {},
   "outputs": [
    {
     "name": "stderr",
     "output_type": "stream",
     "text": [
      "/gpfs/bbp.cscs.ch/ssd/slurmTmpFS/shichkov/1016608/ipykernel_27596/111295241.py:1: NumbaWarning: \n",
      "Compilation is falling back to object mode WITH looplifting enabled because Function \"f2_b\" failed type inference due to: non-precise type pyobject\n",
      "During: typing of argument at /gpfs/bbp.cscs.ch/ssd/slurmTmpFS/shichkov/1016608/ipykernel_27596/111295241.py (2)\n",
      "\n",
      "File \"../../../../ssd/slurmTmpFS/shichkov/1016608/ipykernel_27596/111295241.py\", line 2:\n",
      "<source missing, REPL/exec in use?>\n",
      "\n",
      "  def f2_b(u,p,t):\n",
      "/gpfs/bbp.cscs.ch/project/proj34/sh_ngvm/multiscale_run/python-venv/lib/python3.9/site-packages/numba/core/object_mode_passes.py:151: NumbaWarning: Function \"f2_b\" was compiled in object mode without forceobj=True.\n",
      "\n",
      "File \"../../../../ssd/slurmTmpFS/shichkov/1016608/ipykernel_27596/111295241.py\", line 1:\n",
      "<source missing, REPL/exec in use?>\n",
      "\n",
      "  warnings.warn(errors.NumbaWarning(warn_msg,\n",
      "/gpfs/bbp.cscs.ch/project/proj34/sh_ngvm/multiscale_run/python-venv/lib/python3.9/site-packages/numba/core/object_mode_passes.py:161: NumbaDeprecationWarning: \n",
      "Fall-back from the nopython compilation path to the object mode compilation path has been detected, this is deprecated behaviour.\n",
      "\n",
      "For more information visit https://numba.readthedocs.io/en/stable/reference/deprecation.html#deprecation-of-object-mode-fall-back-behaviour-when-using-jit\n",
      "\n",
      "File \"../../../../ssd/slurmTmpFS/shichkov/1016608/ipykernel_27596/111295241.py\", line 1:\n",
      "<source missing, REPL/exec in use?>\n",
      "\n",
      "  warnings.warn(errors.NumbaDeprecationWarning(msg,\n"
     ]
    }
   ],
   "source": [
    "import numba\n",
    "\n",
    "numba_f = numba.jit(f2_b) # warning  https://numba.readthedocs.io/en/stable/reference/deprecation.html#deprecation-of-object-mode-fall-back-behaviour-when-using-jit\n",
    "\n",
    "prob2 = de.ODEProblem(numba_f, u0, tspan)\n",
    "sol2 = de.solve(prob2)"
   ]
  },
  {
   "cell_type": "code",
   "execution_count": 11,
   "id": "b61eccba-4af5-4d3d-94ed-15fe0bd7057c",
   "metadata": {},
   "outputs": [
    {
     "data": {
      "image/png": "[encoded data removed]",
      "text/plain": [
       "<Figure size 432x288 with 1 Axes>"
      ]
     },
     "metadata": {
      "needs_background": "light"
     },
     "output_type": "display_data"
    }
   ],
   "source": [
    "plt.plot(sol2.t,sol2.u)\n",
    "plt.show()"
   ]
  },
  {
   "cell_type": "code",
   "execution_count": null,
   "id": "893d5538-2b08-4cfb-a3eb-0dda49963a26",
   "metadata": {},
   "outputs": [],
   "source": []
  },
  {
   "cell_type": "code",
   "execution_count": 36,
   "id": "dbca0162-6fd2-4884-a954-fbb9753dbb4e",
   "metadata": {},
   "outputs": [],
   "source": [
    "# This will allow for more specialization and could be helpful to increase the efficiency over the Numba version for repeat or long calls\n",
    "\n",
    "from julia import Main\n",
    "\n",
    "jul_f = Main.eval(\"(u,p,t)->-u\") # Define the anonymous function in Julia\n",
    "\n",
    "prob3 = de.ODEProblem(jul_f, u0, tspan)\n",
    "sol3 = de.solve(prob3)"
   ]
  },
  {
   "cell_type": "code",
   "execution_count": null,
   "id": "05cac40f-cd25-4741-b11a-d7becc14ece8",
   "metadata": {},
   "outputs": [],
   "source": [
    "plt.plot(sol3.t,sol3.u)\n",
    "plt.show()"
   ]
  },
  {
   "cell_type": "code",
   "execution_count": null,
   "id": "5ccbaa53-5cb2-4bcd-8db1-9ce1e4a890e0",
   "metadata": {},
   "outputs": [],
   "source": []
  },
  {
   "cell_type": "code",
   "execution_count": null,
   "id": "6da590a2-4123-4a32-a96a-b8fcea60f36d",
   "metadata": {},
   "outputs": [],
   "source": []
  },
  {
   "cell_type": "code",
   "execution_count": null,
   "id": "a700daf6-31c6-4a21-af6f-e522417f7e4c",
   "metadata": {},
   "outputs": [],
   "source": []
  },
  {
   "cell_type": "code",
   "execution_count": null,
   "id": "36d99394-bdc1-4492-aa75-6af5251d17ee",
   "metadata": {},
   "outputs": [],
   "source": []
  },
  {
   "cell_type": "code",
   "execution_count": null,
   "id": "3c3bdd40-e089-4f4b-b05f-8d9803f69910",
   "metadata": {},
   "outputs": [],
   "source": []
  },
  {
   "cell_type": "code",
   "execution_count": 21,
   "id": "2431fb09-6abf-4569-afbd-98a702399b32",
   "metadata": {},
   "outputs": [],
   "source": [
    "saveat_dt = 0.01\n",
    "cb_nonneg_idxs = [1] #,2,3,4,5,6,7,8,9,10,11,12,13,14,15,16,17,18,19,20,21,22,23,24,25,26,27,28,29,30,31,32,33,34,35,36,37,38,39,40,41,42,51,52,53,54,55,56,57,58,59,60,61,62,63,64,65,66,67,68,69,70,71,72,73,74,75,76,77,78,79,80,81,82,83,84,85,86,87,88,89,90,91,92, 94,95,96,97, 99, 102, 113,114,115,116,117,118,119,120,121,122,123,124,125,126,127,128,129,130,131,132,133,134,135,136,137,138,139,140,141,142,143,144,145,146,147,148,149,150,151,152,153,154,155,156,157,158,159,160,161,162,163,164,165,166,167,168,169,170,171,172,173,174,175,176];\n",
    "\n",
    "sol_r23ns = de.solve(prob3,de.Rosenbrock23(autodiff=False),reltol=1e-8,abstol=1e-8,saveat=saveat_dt,maxiters=1e6)\n",
    "\n",
    "# callback = callbacksetksiSyn \n",
    "\n",
    "# diffeqpy doesn't support isoutofdomain=(u,p,t) -> any(x -> x < 0, u[cb_nonneg_idxs])"
   ]
  },
  {
   "cell_type": "code",
   "execution_count": 22,
   "id": "73077bb7-f59c-4ef7-ba26-107bfbd7680a",
   "metadata": {},
   "outputs": [
    {
     "data": {
      "image/png": "[encoded data removed]",
      "text/plain": [
       "<Figure size 432x288 with 1 Axes>"
      ]
     },
     "metadata": {
      "needs_background": "light"
     },
     "output_type": "display_data"
    }
   ],
   "source": [
    "plt.plot(sol_r23ns.t,sol_r23ns.u)\n",
    "plt.show()"
   ]
  },
  {
   "cell_type": "code",
   "execution_count": null,
   "id": "9d013deb-e58d-414f-80d0-db64c1eeb261",
   "metadata": {},
   "outputs": [],
   "source": []
  },
  {
   "cell_type": "code",
   "execution_count": 6,
   "id": "b5085e9a-4595-4e0a-b8fb-4e440a1bd6eb",
   "metadata": {},
   "outputs": [],
   "source": [
    "jul_f4 = Main.eval(\"\"\"\n",
    "function f4!(du,u,p,t)\n",
    "  x, y, z = u\n",
    "  sigma, rho, beta = p\n",
    "  du[1] = sigma * (y - x)\n",
    "  du[2] = x * (rho - z) - y\n",
    "  du[3] = x * y - beta * z\n",
    "end\"\"\")\n",
    "u0 = [1.0,0.0,0.0]\n",
    "tspan = (0., 100.)\n",
    "p = [10.0,28.0,2.66]\n",
    "\n",
    "prob4 = de.ODEProblem(jul_f4, u0, tspan, p)\n",
    "sol4 = de.solve(prob4)"
   ]
  },
  {
   "cell_type": "code",
   "execution_count": 9,
   "id": "4e1e95e5-a3ec-4191-a966-37a2eeceb3eb",
   "metadata": {},
   "outputs": [
    {
     "data": {
      "image/png": "[encoded data removed]",
      "text/plain": [
       "<Figure size 432x288 with 1 Axes>"
      ]
     },
     "metadata": {
      "needs_background": "light"
     },
     "output_type": "display_data"
    }
   ],
   "source": [
    "plt.plot(sol4.t,sol4.u)\n",
    "plt.show()"
   ]
  },
  {
   "cell_type": "code",
   "execution_count": null,
   "id": "32bd5d9d-fef8-44cc-b072-d1d01b870948",
   "metadata": {},
   "outputs": [],
   "source": []
  },
  {
   "cell_type": "code",
   "execution_count": 35,
   "id": "da5eb4b2-cea7-4b7d-b513-7025db6c3552",
   "metadata": {},
   "outputs": [
    {
     "name": "stdout",
     "output_type": "stream",
     "text": [
      "/gpfs/bbp.cscs.ch/project/proj34/sh_ngvm/multiscale_run\n"
     ]
    }
   ],
   "source": [
    "! pwd"
   ]
  },
  {
   "cell_type": "code",
   "execution_count": 6,
   "id": "93072ace-3fd2-4b52-9bc8-fea62d044345",
   "metadata": {},
   "outputs": [],
   "source": [
    "import pandas as pd\n",
    "import matplotlib.pyplot as plt"
   ]
  },
  {
   "cell_type": "code",
   "execution_count": 7,
   "id": "3eb62239-1a06-4733-9488-a716ddb3610d",
   "metadata": {},
   "outputs": [],
   "source": [
    "u0 = pd.read_csv(\"/gpfs/bbp.cscs.ch/project/proj34/sh_ngvm/multiscale_run/metabolismndam_reduced/sim/metabolism_unit_models/u0_21nov22.csv\",sep=\",\",header=None)[0].tolist()\n"
   ]
  },
  {
   "cell_type": "code",
   "execution_count": 8,
   "id": "0938ff03-759a-4ba5-b0ff-28f7907ee834",
   "metadata": {},
   "outputs": [],
   "source": [
    "from diffeqpy import de\n",
    "from julia import Main"
   ]
  },
  {
   "cell_type": "code",
   "execution_count": 9,
   "id": "a199ec33-90da-406a-b138-429268795d8c",
   "metadata": {},
   "outputs": [
    {
     "data": {
      "text/plain": [
       "0.0"
      ]
     },
     "execution_count": 9,
     "metadata": {},
     "output_type": "execute_result"
    }
   ],
   "source": [
    "Main.eval('''\n",
    "modeldirname = \"/gpfs/bbp.cscs.ch/project/proj34/metabolismndam/sim/metabolism_unit_models/\"\n",
    "\n",
    "include(string(modeldirname,\"FINAL_CLEAN/data_model_full/u0_db_refined_selected_oct2021.jl\"))\n",
    "\n",
    "pardirname = string(modeldirname,\"optimiz_unit/enzymes/enzymes_preBigg/COMBO/parameters_18nov22/\")\n",
    "\n",
    "include(string(pardirname,\"general_parameters.jl\"))\n",
    "include(string(pardirname,\"ephys_parameters.jl\"))\n",
    "include(string(pardirname,\"bf_input.jl\"))\n",
    "include(string(pardirname,\"generalisations.jl\")) # Jolivet NADH shuttles, resp\n",
    "include(string(pardirname,\"GLC_transport.jl\"))\n",
    "include(string(pardirname,\"GLYCOLYSIS.jl\"))\n",
    "include(string(pardirname,\"glycogen.jl\"))\n",
    "\n",
    "include(string(pardirname,\"creatine.jl\"))\n",
    "\n",
    "include(string(pardirname,\"ATDMP.jl\"))\n",
    "\n",
    "include(string(pardirname,\"pyrTrCytoMito.jl\"))\n",
    "include(string(pardirname,\"lactate.jl\"))\n",
    "include(string(pardirname,\"TCA.jl\"))\n",
    "\n",
    "include(string(pardirname,\"ETC.jl\"))\n",
    "\n",
    "include(string(pardirname,\"PPP_n.jl\"))\n",
    "include(string(pardirname,\"PPP_a.jl\"))\n",
    "include(string(pardirname,\"gshgssg.jl\"))\n",
    "\n",
    "include(string(pardirname,\"MAS.jl\"))\n",
    "include(string(pardirname,\"gltgln.jl\"))\n",
    "include(string(pardirname,\"pyrCarb.jl\"))\n",
    "include(string(pardirname,\"ketones.jl\"))\n",
    "\n",
    "# for NEmodulation\n",
    "xNEmod = 0.025 # 0.1 #0.00011\n",
    "KdNEmod = 3.0e-4 # 3.6e-5  # 3.0e-4 #\n",
    "    \n",
    "Iinj = 0.0\n",
    "synInput = 0.0\n",
    "    \n",
    "    \n",
    "''')"
   ]
  },
  {
   "cell_type": "markdown",
   "id": "517d4778-a4f3-43ce-92d5-238248517ef9",
   "metadata": {},
   "source": [
    "### Test 3 metabolism coupling to ndam versions"
   ]
  },
  {
   "cell_type": "code",
   "execution_count": 16,
   "id": "692740fe-18c3-49f3-8493-dde03d082651",
   "metadata": {},
   "outputs": [],
   "source": [
    "#julia_code_file = \"/gpfs/bbp.cscs.ch/project/proj34/sh_ngvm/multiscale_run/metabolismndam_reduced/sim/metabolism_unit_models/metabolism_model_21nov22_noEphys_noSB.jl\"\n",
    "\n",
    "#julia_code_file = \"/gpfs/bbp.cscs.ch/project/proj34/sh_ngvm/multiscale_run/metabolismndam_reduced/sim/metabolism_unit_models/metabolism_model_21nov22_withEphysCurrNdam_noSB.jl\"\n",
    "\n",
    "julia_code_file = \"/gpfs/bbp.cscs.ch/project/proj34/sh_ngvm/multiscale_run/metabolismndam_reduced/sim/metabolism_unit_models/metabolism_model_21nov22_withEphysNoCurrNdam_noSB.jl\"\n",
    "\n",
    "\n",
    "with open(julia_code_file, \"r\") as f:\n",
    "    julia_code = f.read()\n",
    "    \n",
    "metabolism_b = Main.eval(julia_code)\n",
    "\n",
    "p = [0.0,0.0,0.0,0.0,0.0]\n",
    "#ina_density,ik_density,mito_scale,glutamatergic_gaba_scaling,outs_r_to_met\n",
    "\n",
    "tspan = (0,1) # s\n",
    "\n",
    "prob_met = de.ODEProblem(metabolism_b, u0, tspan, p)"
   ]
  },
  {
   "cell_type": "code",
   "execution_count": 17,
   "id": "a4295f4c-a747-42b9-9844-b27ac87b7e9c",
   "metadata": {},
   "outputs": [],
   "source": [
    "saveat_dt = 1\n",
    "\n",
    "sol_r23ns = de.solve(prob_met,de.Rosenbrock23(autodiff=False),reltol=1e-8,abstol=1e-8,saveat=saveat_dt,maxiters=1e6)\n"
   ]
  },
  {
   "cell_type": "code",
   "execution_count": 18,
   "id": "7786dedc-e89c-46c9-9498-55ce37687b66",
   "metadata": {},
   "outputs": [
    {
     "data": {
      "image/png": "[encoded data removed]",
      "text/plain": [
       "<Figure size 432x288 with 1 Axes>"
      ]
     },
     "metadata": {
      "needs_background": "light"
     },
     "output_type": "display_data"
    }
   ],
   "source": [
    "plt.plot(sol_r23ns.t,sol_r23ns.u)\n",
    "plt.show()"
   ]
  },
  {
   "cell_type": "code",
   "execution_count": null,
   "id": "b0e5a9e4-ee72-44f6-9b50-19090a8fb6ca",
   "metadata": {},
   "outputs": [],
   "source": []
  },
  {
   "cell_type": "code",
   "execution_count": null,
   "id": "ff67c245-758a-4974-a5cd-ec800a64baf1",
   "metadata": {},
   "outputs": [],
   "source": []
  },
  {
   "cell_type": "code",
   "execution_count": null,
   "id": "39bad775-9526-4ecd-b03e-efd2444b11c9",
   "metadata": {},
   "outputs": [],
   "source": []
  },
  {
   "cell_type": "code",
   "execution_count": null,
   "id": "2f4cba8a-7c1d-4d70-85b6-c4898d953bb7",
   "metadata": {},
   "outputs": [],
   "source": []
  },
  {
   "cell_type": "code",
   "execution_count": null,
   "id": "da4cc64a-875f-47c4-826e-418f3f85eb64",
   "metadata": {},
   "outputs": [],
   "source": [
    "#using ModelingToolkit, Symbolics \n",
    "\n",
    "# #prep_prob = ODEProblem(system_de!,u0,tspan,p)  \n",
    "\n",
    "# de_mtk = Main.eval(ModelingToolkit.modelingtoolkitize(prob_met))\n",
    "\n",
    "# prob = de.ODEProblem(de_mtk, u0, tspan, p, sparse=True)  \n"
   ]
  },
  {
   "cell_type": "code",
   "execution_count": null,
   "id": "21072918-b5e0-43d2-b764-83a2d6a5ace3",
   "metadata": {},
   "outputs": [],
   "source": []
  }
 ],
 "metadata": {
  "kernelspec": {
   "display_name": "Python 3 (ipykernel)",
   "language": "python",
   "name": "python3"
  },
  "language_info": {
   "codemirror_mode": {
    "name": "ipython",
    "version": 3
   },
   "file_extension": ".py",
   "mimetype": "text/x-python",
   "name": "python",
   "nbconvert_exporter": "python",
   "pygments_lexer": "ipython3",
   "version": "3.9.7"
  }
 },
 "nbformat": 4,
 "nbformat_minor": 5
}
